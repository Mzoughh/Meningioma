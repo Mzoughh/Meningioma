{
 "cells": [
  {
   "cell_type": "markdown",
   "metadata": {},
   "source": [
    "# Analyse du Dataset du CHUL et des caractéristique de chaque IRM Patients"
   ]
  },
  {
   "cell_type": "markdown",
   "metadata": {},
   "source": [
    "# Tableau résumant l'hétérogénité de la base de données\n",
    "<li>Remarque: ici nous avons des images qui peuvent changer de dimension d'un patient à l'autre </li>\n",
    "<li>Les dimensions d'origine dans le Dataset de BraTS sont normaliséees: 240*240*155</li>\n",
    "<li>Nous les avons nous convertit en 128*128*128 </li>\n",
    "<li>Il va falloir adapter nos données pour avoir la même normalisation</li>\n"
   ]
  },
  {
   "cell_type": "markdown",
   "metadata": {},
   "source": [
    "### Bibliothèques nécessaires"
   ]
  },
  {
   "cell_type": "code",
   "execution_count": 3,
   "metadata": {},
   "outputs": [],
   "source": [
    "import glob\n",
    "import pandas as pd\n",
    "from skimage import io\n",
    "import pydicom as dicom"
   ]
  },
  {
   "cell_type": "markdown",
   "metadata": {},
   "source": [
    "### Tableau résume le DataSET"
   ]
  },
  {
   "cell_type": "code",
   "execution_count": 5,
   "metadata": {},
   "outputs": [
    {
     "name": "stdout",
     "output_type": "stream",
     "text": [
      "  Numéro du patient Taille de l'image FLAIR Taille de l'image T1 Comparaison\n",
      "0        patient_47         (270, 362, 312)      (213, 326, 316)       False\n",
      "1        patient_48         (285, 357, 283)      (226, 317, 291)       False\n",
      "2        patient_49         (288, 349, 300)      (288, 349, 300)        True\n",
      "3        patient_50         (277, 348, 299)      (277, 348, 299)        True\n",
      "4        patient_51         (291, 351, 263)      (291, 351, 263)        True\n",
      "5        patient_52         (329, 380, 293)      (329, 380, 293)        True\n",
      "6        patient_53         (261, 341, 308)      (261, 341, 308)        True\n",
      "7        patient_54         (260, 338, 283)      (260, 338, 283)        True\n",
      "8        patient_55         (321, 365, 332)      (321, 365, 332)        True\n",
      "Le tableau résumé a été exporté avec succès vers Tableau_DataSET_CHUL.xlsx.\n",
      "dimension mimimale [260, 338, 263]\n"
     ]
    }
   ],
   "source": [
    "#Trouver tous les fichiers flair.dcm et t1.dcm dans le répertoire spécifié\n",
    "\n",
    "flair_list_final = sorted(glob.glob('/Users/bimlaboratoire/python/stage_mzoughebi/notebook/PYTHON/DataBase_IA/*/flair.dcm'))\n",
    "t1_list = sorted(glob.glob('/Users/bimlaboratoire/python/stage_mzoughebi/notebook/PYTHON/DataBase_IA/*/t1_ce.dcm'))\n",
    "\n",
    "# On va récuperer les dimensions les plus petites de l'ensemble du dataset\n",
    "\n",
    "dim_min_x = 10000\n",
    "dim_min_y = 10000\n",
    "dim_min_z = 10000\n",
    "\n",
    "\n",
    "# Créer une liste pour stocker les informations sur chaque patient\n",
    "summary_data = []\n",
    "\n",
    "# Parcourir chaque patient pour obtenir les informations demandées\n",
    "for flair_file, t1_file in zip(flair_list_final, t1_list):\n",
    "    # Extraire le numéro du patient à partir du nom du fichier\n",
    "    patient_num = flair_file.split('/')[-2]\n",
    "    \n",
    "    # Charger les images FLAIR et T1 pour obtenir leur taille\n",
    "    t1_dicom = dicom.dcmread(t1_file)\n",
    "    t1=t1_dicom.pixel_array\n",
    "\n",
    "    flair_dicom = dicom.dcmread(flair_file)\n",
    "    flair=flair_dicom.pixel_array\n",
    "    \n",
    "    # Récupérer les tailles des images\n",
    "    flair_size = flair.shape\n",
    "    t1_size = t1.shape\n",
    "\n",
    "    \n",
    "    \n",
    "    # Comparaison entre les deux images\n",
    "    comparaison = \"False\" if flair_size != t1_size else \"True\"\n",
    "\n",
    "    if comparaison == \"True\" :\n",
    "        if t1_size[0] < dim_min_z:\n",
    "            dim_min_z = t1_size[0]\n",
    "        if t1_size[1] < dim_min_x:\n",
    "            dim_min_x = t1_size[1]\n",
    "        if t1_size[2] < dim_min_y:\n",
    "            dim_min_y = t1_size[2]\n",
    "    \n",
    "    # Ajouter les informations du patient à la liste\n",
    "    summary_data.append([patient_num, flair_size, t1_size, comparaison])\n",
    "\n",
    "# Créer un DataFrame à partir des données\n",
    "summary_df = pd.DataFrame(summary_data, columns=['Numéro du patient', 'Taille de l\\'image FLAIR', 'Taille de l\\'image T1', 'Comparaison'])\n",
    "\n",
    "# Afficher le tableau résumé\n",
    "print(summary_df)\n",
    "\n",
    "# Exporter le DataFrame en fichier Excel\n",
    "nom_fichier_excel = 'Tableau_DataSET_CHUL.xlsx'\n",
    "summary_df.to_excel(nom_fichier_excel, index=False)\n",
    "\n",
    "print(f\"Le tableau résumé a été exporté avec succès vers {nom_fichier_excel}.\")\n",
    "dim_min=[dim_min_z,dim_min_x,dim_min_y]\n",
    "print('dimension mimimale',dim_min)"
   ]
  }
 ],
 "metadata": {
  "kernelspec": {
   "display_name": "venv",
   "language": "python",
   "name": "python3"
  },
  "language_info": {
   "codemirror_mode": {
    "name": "ipython",
    "version": 3
   },
   "file_extension": ".py",
   "mimetype": "text/x-python",
   "name": "python",
   "nbconvert_exporter": "python",
   "pygments_lexer": "ipython3",
   "version": "3.9.17"
  },
  "orig_nbformat": 4
 },
 "nbformat": 4,
 "nbformat_minor": 2
}
