{
 "cells": [
  {
   "cell_type": "markdown",
   "metadata": {},
   "source": [
    "# Notebook permettant la reconstruction 3D de la tumeur"
   ]
  },
  {
   "cell_type": "code",
   "execution_count": 5,
   "metadata": {},
   "outputs": [],
   "source": [
    "############################ Import des modules necessaires #############################\n",
    "\n",
    "import numpy as np\n",
    "import matplotlib.pyplot as plt\n",
    "from mayavi import mlab\n",
    "import nibabel as nib"
   ]
  },
  {
   "cell_type": "code",
   "execution_count": 6,
   "metadata": {},
   "outputs": [
    {
     "name": "stdout",
     "output_type": "stream",
     "text": [
      "(128, 128, 128, 4)\n",
      "[[[0. 0. 0. ... 0. 0. 0.]\n",
      "  [0. 0. 0. ... 0. 0. 0.]\n",
      "  [0. 0. 0. ... 0. 0. 0.]\n",
      "  ...\n",
      "  [0. 0. 0. ... 0. 0. 0.]\n",
      "  [0. 0. 0. ... 0. 0. 0.]\n",
      "  [0. 0. 0. ... 0. 0. 0.]]\n",
      "\n",
      " [[0. 0. 0. ... 0. 0. 0.]\n",
      "  [0. 0. 0. ... 0. 0. 0.]\n",
      "  [0. 0. 0. ... 0. 0. 0.]\n",
      "  ...\n",
      "  [0. 0. 0. ... 0. 0. 0.]\n",
      "  [0. 0. 0. ... 0. 0. 0.]\n",
      "  [0. 0. 0. ... 0. 0. 0.]]\n",
      "\n",
      " [[0. 0. 0. ... 0. 0. 0.]\n",
      "  [0. 0. 0. ... 0. 0. 0.]\n",
      "  [0. 0. 0. ... 0. 0. 0.]\n",
      "  ...\n",
      "  [0. 0. 0. ... 0. 0. 0.]\n",
      "  [0. 0. 0. ... 0. 0. 0.]\n",
      "  [0. 0. 0. ... 0. 0. 0.]]\n",
      "\n",
      " ...\n",
      "\n",
      " [[0. 0. 0. ... 0. 0. 0.]\n",
      "  [0. 0. 0. ... 0. 0. 0.]\n",
      "  [0. 0. 0. ... 0. 0. 0.]\n",
      "  ...\n",
      "  [0. 0. 0. ... 0. 0. 0.]\n",
      "  [0. 0. 0. ... 0. 0. 0.]\n",
      "  [0. 0. 0. ... 0. 0. 0.]]\n",
      "\n",
      " [[0. 0. 0. ... 0. 0. 0.]\n",
      "  [0. 0. 0. ... 0. 0. 0.]\n",
      "  [0. 0. 0. ... 0. 0. 0.]\n",
      "  ...\n",
      "  [0. 0. 0. ... 0. 0. 0.]\n",
      "  [0. 0. 0. ... 0. 0. 0.]\n",
      "  [0. 0. 0. ... 0. 0. 0.]]\n",
      "\n",
      " [[0. 0. 0. ... 0. 0. 0.]\n",
      "  [0. 0. 0. ... 0. 0. 0.]\n",
      "  [0. 0. 0. ... 0. 0. 0.]\n",
      "  ...\n",
      "  [0. 0. 0. ... 0. 0. 0.]\n",
      "  [0. 0. 0. ... 0. 0. 0.]\n",
      "  [0. 0. 0. ... 0. 0. 0.]]]\n",
      "(128, 128, 128)\n"
     ]
    }
   ],
   "source": [
    "##########################\n",
    "\n",
    "# Charger le masque 3D de la tumeur à partir du tableau NumPy\n",
    "mask_4d = np.load(\"/Users/bimlaboratoire/python/stage_mzoughebi/notebook/PYTHON/archive/BraTS2020_TrainingData/input_data_128_2channels/train/masks/patient_0.npy\")\n",
    "\n",
    "# Vérifier les dimensions du masque\n",
    "print(mask_4d.shape)  # Cela devrait afficher (128, 128, 128, 4)\n",
    "mask_4d[mask_4d==4] = 3 ##LE LABEL 4 EST CHANGE EN 3\n",
    "\n",
    "################################################################################\n",
    "# mask_4d[:, :, :, 0] == Unlabeled volume / Brain = Green sprectral \n",
    "# mask_4d[:, :, :, 1] == Necrotic and non-enhancing tumor core (NCR/NET) - Green\n",
    "# mask_4d[:, :, :, 2] == Peritumoral edema (ED) - Jaune\n",
    "# mask_4d[:, :, :, 3] == Classe 4: GD-enhancing Tumor - Rouge\n",
    "################################################################################\n",
    "\n",
    "# Convertir en tableau à trois dimensions en n'utilisant que le premier canal (par exemple)\n",
    "mask_3d = mask_4d[:, :, :, 3]\n",
    "print(mask_3d)\n",
    "\n",
    "# Convertir en tableau à trois dimensions en n'utilisant que le premier canal (par exemple)\n",
    "mask_3d_oe = mask_4d[:, :, :, 2]\n",
    "\n",
    "# Convertir en tableau à trois dimensions en n'utilisant que le premier canal (par exemple)\n",
    "mask_3d_ne = mask_4d[:, :, :, 1]\n",
    "\n",
    "\n",
    "\n",
    "\n",
    "# Vérifier les dimensions du masque 3D résultant\n",
    "print(mask_3d.shape)  # Cela devrait afficher (128, 128, 128)"
   ]
  },
  {
   "cell_type": "code",
   "execution_count": 7,
   "metadata": {},
   "outputs": [
    {
     "name": "stdout",
     "output_type": "stream",
     "text": [
      "(240, 240, 155)\n",
      "(128, 128, 128)\n"
     ]
    }
   ],
   "source": [
    "# Charger l'IRM du cerveau à partir du tableau NumPy (128x128x128) de luminance\n",
    "irm_brain= nib.load('/Users/bimlaboratoire/python/stage_mzoughebi/notebook/PYTHON/archive/BraTS2020_TrainingData/MICCAI_BraTS2020_TrainingData/BraTS20_Training_001/BraTS20_Training_001_t1.nii').get_fdata()\n",
    "irm_brain=irm_brain.astype(np.uint8)\n",
    "# Convertir en tableau à trois dimensions en n'utilisant que le premier canal (par exemple)\n",
    "print(irm_brain.shape)\n",
    "irm_brain=irm_brain[56:184,56:184,13:141]\n",
    "print(irm_brain.shape)"
   ]
  },
  {
   "cell_type": "code",
   "execution_count": 8,
   "metadata": {},
   "outputs": [],
   "source": [
    "#########################\n",
    "\n",
    "\n",
    "# Créez une figure Mayavi\n",
    "fig = mlab.figure(size=(800, 800))\n",
    "\n",
    "# Utilisez la fonction \"contour3d\" pour créer une visualisation 3D de la tumeur\n",
    "contour_irm = mlab.contour3d(irm_brain, colormap=\"Spectral\")\n",
    "\n",
    "contour_irm.actor.property.opacity = 0.05 \n",
    "\n",
    "\n",
    "# Utilisez la fonction \"contour3d\" pour créer une visualisation 3D de la tumeur\n",
    "contour = mlab.contour3d(mask_3d, colormap=\"Reds\")\n",
    "\n",
    "# Vous pouvez ajouter des options supplémentaires pour personnaliser l'apparence\n",
    "contour.actor.property.opacity = 0.4 # Réglez la transparence pour voir à travers la tumeur\n",
    "\n",
    "\n",
    "# Utilisez la fonction \"contour3d\" pour créer une visualisation 3D de la tumeur\n",
    "contour_oe = mlab.contour3d(mask_3d_oe, colormap=\"Blues\")\n",
    "\n",
    "# Vous pouvez ajouter des options supplémentaires pour personnaliser l'apparence\n",
    "contour_oe.actor.property.opacity = 0.2 # Réglez la transparence pour voir à travers la tumeur\n",
    "\n",
    "\n",
    "# Utilisez la fonction \"contour3d\" pour créer une visualisation 3D de la tumeur\n",
    "contour_ne = mlab.contour3d(mask_3d_ne, colormap=\"Greens\")\n",
    "\n",
    "# Vous pouvez ajouter des options supplémentaires pour personnaliser l'apparence\n",
    "contour_ne.actor.property.opacity = 0.6 # Réglez la transparence pour voir à travers la tumeur\n",
    "\n",
    "\n",
    "# Afficher la figure\n",
    "mlab.show()\n"
   ]
  }
 ],
 "metadata": {
  "kernelspec": {
   "display_name": "stage_venv",
   "language": "python",
   "name": "python3"
  },
  "language_info": {
   "codemirror_mode": {
    "name": "ipython",
    "version": 3
   },
   "file_extension": ".py",
   "mimetype": "text/x-python",
   "name": "python",
   "nbconvert_exporter": "python",
   "pygments_lexer": "ipython3",
   "version": "3.9.17"
  },
  "orig_nbformat": 4
 },
 "nbformat": 4,
 "nbformat_minor": 2
}
