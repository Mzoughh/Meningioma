{
 "cells": [
  {
   "attachments": {},
   "cell_type": "markdown",
   "metadata": {},
   "source": [
    "# Définition du modèle Unet-3D"
   ]
  },
  {
   "attachments": {},
   "cell_type": "markdown",
   "metadata": {},
   "source": [
    "<p>Iddée : Nous allons implémenter une architecture 3D-UNET classique pour une image avec 2 channels d'entrée. Les images combinées_x inputs sont donc de dimension 128*128*128*2</p>"
   ]
  },
  {
   "attachments": {},
   "cell_type": "markdown",
   "metadata": {},
   "source": [
    "<li> Nous utilisons pour la compréhension du modèle le document suivant: U-Net and Its Variants for Medical Image Segmentation: A Review of Theory\n",
    "and Applications</li>\n",
    "<li>Ainsi qu'une référence du précédent document: https://ieeexplore.ieee.org/stamp/stamp.jsp?tp=&arnumber=8768829&tag=1 </li>"
   ]
  },
  {
   "attachments": {},
   "cell_type": "markdown",
   "metadata": {},
   "source": [
    "## Schéma du modèle"
   ]
  },
  {
   "attachments": {},
   "cell_type": "markdown",
   "metadata": {},
   "source": [
    "<img src=\"Unet_scheme.png\" width=60% height=50%  />"
   ]
  },
  {
   "attachments": {},
   "cell_type": "markdown",
   "metadata": {},
   "source": [
    "## Import des modules \n",
    "<li>Travaux de base de : @author: Sreenivas Bhattiprolu </li>\n"
   ]
  },
  {
   "cell_type": "code",
   "execution_count": 1,
   "metadata": {},
   "outputs": [],
   "source": [
    "from keras.models import Model\n",
    "from keras.layers import Input, Conv3D, MaxPooling3D, concatenate, Conv3DTranspose, BatchNormalization, Dropout, Lambda\n",
    "from keras.optimizers import Adam\n",
    "from keras.metrics import MeanIoU"
   ]
  },
  {
   "attachments": {},
   "cell_type": "markdown",
   "metadata": {},
   "source": [
    "## Travail sur l'initialisation "
   ]
  },
  {
   "attachments": {},
   "cell_type": "markdown",
   "metadata": {},
   "source": [
    "<li>Initialisation des poids de chaques couches, conformément au cours de Stanford, nous utiliserons l'initialisation he_uniform qui s'explique par l'utilisation de fonction d'activation Relu</li>\n"
   ]
  },
  {
   "cell_type": "code",
   "execution_count": 2,
   "metadata": {},
   "outputs": [],
   "source": [
    "################ Initialisation he uniforme qui est spécifique au fonction d'activation Relu#############\n",
    "kernel_initializer = 'he_uniform' \n",
    "################## Autre possibilité Initialisation de Xavier commune au MOOC ######################\n",
    "#kernel_initializer = 'glorot_uniform' \n"
   ]
  },
  {
   "attachments": {},
   "cell_type": "markdown",
   "metadata": {},
   "source": [
    "## Définition de la structure du modèle"
   ]
  },
  {
   "attachments": {},
   "cell_type": "markdown",
   "metadata": {},
   "source": [
    "<li>Ici nous ne modifions pas le code source utilisé, cependant nous l'avons bien comparé au modèle théorique pour nous assurer de sa bonne structure</li>"
   ]
  },
  {
   "cell_type": "code",
   "execution_count": 3,
   "metadata": {},
   "outputs": [],
   "source": [
    "#################### La Particularité de Keras et de TensorFlow est la définition static du modèle qui est réalisé ici (cf MOOC Stanford)################\n",
    "\n",
    "def simple_unet_model(IMG_HEIGHT, IMG_WIDTH, IMG_DEPTH, IMG_CHANNELS, num_classes):\n",
    "\n",
    "    #On définit la couche d'entré du modèle \n",
    "    # Keras: Création d'un tenseur d'entré avec les bonnes dimensions\n",
    "    inputs = Input((IMG_HEIGHT, IMG_WIDTH, IMG_DEPTH, IMG_CHANNELS))\n",
    "    s = inputs\n",
    "\n",
    "    ##################On détaillera uniquement le premier bloc des deux phases ################\n",
    "\n",
    "    #Phase de contraction (\"détaillé en théorie dans papier rédigé\")\n",
    "    \n",
    "    \n",
    "    ################################### Bloc 1 #################################\n",
    "\n",
    "    # Couche de convolution 3D: 16 nombre de Filtres de dimension 3*3*3, activation Relu, utilisation de l'initialisation précédente et on ajoute des zéro pour \n",
    "    # La taille des images d'origines. Note le Stride n'étant pas spécifier il est de 1. \n",
    "    # Pour voir les dimensions de la matrice sans les zéros padding nous pouvons faire le calcul suivant :\n",
    "    # (N(taille input) - F(taille kernel)/ Stride) + 1 = (128 - 3)/1 + 1= 125 + 1 = 126\n",
    "    c1 = Conv3D(16, (3, 3, 3), activation='relu', kernel_initializer=kernel_initializer, padding='same')(s)\n",
    "    # Couche de régularisation qui va éviter le surapprentissage en désactivement 10% des neuronnes\n",
    "    c1 = Dropout(0.1)(c1)\n",
    "    # Recommence une couche de convolution\n",
    "    c1 = Conv3D(16, (3, 3, 3), activation='relu', kernel_initializer=kernel_initializer, padding='same')(c1)\n",
    "    # Le pooling 3D réduit la taille spatiale des caractéristiques tout en \n",
    "    # préservant les informations les plus importantes. Ici, nous utilisons \n",
    "    # un pooling de taille 2x2x2, ce qui signifie que nous prenons la valeur maximale dans \n",
    "    # chaque région de 2x2x2 pour réduire la taille des dimensions spatiales de moitié.\n",
    "    p1 = MaxPooling3D((2, 2, 2))(c1)\n",
    "    \n",
    "    ################################### Bloc 2 #################################\n",
    "    c2 = Conv3D(32, (3, 3, 3), activation='relu', kernel_initializer=kernel_initializer, padding='same')(p1)\n",
    "    c2 = Dropout(0.1)(c2)\n",
    "    c2 = Conv3D(32, (3, 3, 3), activation='relu', kernel_initializer=kernel_initializer, padding='same')(c2)\n",
    "    p2 = MaxPooling3D((2, 2, 2))(c2)\n",
    "     \n",
    "    ################################### Bloc 3 #################################\n",
    "    c3 = Conv3D(64, (3, 3, 3), activation='relu', kernel_initializer=kernel_initializer, padding='same')(p2)\n",
    "    c3 = Dropout(0.2)(c3)\n",
    "    c3 = Conv3D(64, (3, 3, 3), activation='relu', kernel_initializer=kernel_initializer, padding='same')(c3)\n",
    "    p3 = MaxPooling3D((2, 2, 2))(c3)\n",
    "    \n",
    "    ################################### Bloc 4 #################################\n",
    "    c4 = Conv3D(128, (3, 3, 3), activation='relu', kernel_initializer=kernel_initializer, padding='same')(p3)\n",
    "    c4 = Dropout(0.2)(c4)\n",
    "    c4 = Conv3D(128, (3, 3, 3), activation='relu', kernel_initializer=kernel_initializer, padding='same')(c4)\n",
    "    p4 = MaxPooling3D(pool_size=(2, 2, 2))(c4)\n",
    "    \n",
    "    ################################### Bloc 5 #################################\n",
    "    c5 = Conv3D(256, (3, 3, 3), activation='relu', kernel_initializer=kernel_initializer, padding='same')(p4)\n",
    "    c5 = Dropout(0.3)(c5)\n",
    "    c5 = Conv3D(256, (3, 3, 3), activation='relu', kernel_initializer=kernel_initializer, padding='same')(c5)\n",
    "    \n",
    "    ################################### Phase d'expension #############################\n",
    "    ############### La seule partie changeante  se trouve au niveau de la concaténation####### \n",
    "    ################################### Bloc 1 #################################\n",
    "    u6 = Conv3DTranspose(128, (2, 2, 2), strides=(2, 2, 2), padding='same')(c5)\n",
    "    u6 = concatenate([u6, c4]) ########### La dimension est retrouvé en concaténant (annule la réduction  de dimension du maxPooling)##\n",
    "    c6 = Conv3D(128, (3, 3, 3), activation='relu', kernel_initializer=kernel_initializer, padding='same')(u6)\n",
    "    c6 = Dropout(0.2)(c6)\n",
    "    c6 = Conv3D(128, (3, 3, 3), activation='relu', kernel_initializer=kernel_initializer, padding='same')(c6)\n",
    "    ################################### Bloc 2 #################################\n",
    "    u7 = Conv3DTranspose(64, (2, 2, 2), strides=(2, 2, 2), padding='same')(c6)\n",
    "    u7 = concatenate([u7, c3])\n",
    "    c7 = Conv3D(64, (3, 3, 3), activation='relu', kernel_initializer=kernel_initializer, padding='same')(u7)\n",
    "    c7 = Dropout(0.2)(c7)\n",
    "    c7 = Conv3D(64, (3, 3, 3), activation='relu', kernel_initializer=kernel_initializer, padding='same')(c7)\n",
    "    ################################### Bloc 3 #################################\n",
    "    u8 = Conv3DTranspose(32, (2, 2, 2), strides=(2, 2, 2), padding='same')(c7)\n",
    "    u8 = concatenate([u8, c2])\n",
    "    c8 = Conv3D(32, (3, 3, 3), activation='relu', kernel_initializer=kernel_initializer, padding='same')(u8)\n",
    "    c8 = Dropout(0.1)(c8)\n",
    "    c8 = Conv3D(32, (3, 3, 3), activation='relu', kernel_initializer=kernel_initializer, padding='same')(c8)\n",
    "     ################################### Bloc 4 #################################\n",
    "    u9 = Conv3DTranspose(16, (2, 2, 2), strides=(2, 2, 2), padding='same')(c8)\n",
    "    u9 = concatenate([u9, c1])\n",
    "    c9 = Conv3D(16, (3, 3, 3), activation='relu', kernel_initializer=kernel_initializer, padding='same')(u9)\n",
    "    c9 = Dropout(0.1)(c9)\n",
    "    c9 = Conv3D(16, (3, 3, 3), activation='relu', kernel_initializer=kernel_initializer, padding='same')(c9)\n",
    "    ################################### Bloc output #################################\n",
    "    outputs = Conv3D(num_classes, (1, 1, 1), activation='softmax')(c9)\n",
    "    model = Model(inputs=[inputs], outputs=[outputs])\n",
    "    #compile model outside of this function to make it flexible. \n",
    "    model.summary()\n",
    "    \n",
    "    return model\n",
    "\n",
    "\n"
   ]
  },
  {
   "attachments": {},
   "cell_type": "markdown",
   "metadata": {},
   "source": [
    "## Affichage du modèle "
   ]
  },
  {
   "cell_type": "code",
   "execution_count": 4,
   "metadata": {},
   "outputs": [
    {
     "name": "stderr",
     "output_type": "stream",
     "text": [
      "2023-07-24 10:54:00.435942: I metal_plugin/src/device/metal_device.cc:1154] Metal device set to: Apple M1 Pro\n",
      "2023-07-24 10:54:00.435965: I metal_plugin/src/device/metal_device.cc:296] systemMemory: 16.00 GB\n",
      "2023-07-24 10:54:00.435971: I metal_plugin/src/device/metal_device.cc:313] maxCacheSize: 5.33 GB\n",
      "2023-07-24 10:54:00.436212: I tensorflow/core/common_runtime/pluggable_device/pluggable_device_factory.cc:303] Could not identify NUMA node of platform GPU ID 0, defaulting to 0. Your kernel may not have been built with NUMA support.\n",
      "2023-07-24 10:54:00.436238: I tensorflow/core/common_runtime/pluggable_device/pluggable_device_factory.cc:269] Created TensorFlow device (/job:localhost/replica:0/task:0/device:GPU:0 with 0 MB memory) -> physical PluggableDevice (device: 0, name: METAL, pci bus id: <undefined>)\n"
     ]
    },
    {
     "name": "stdout",
     "output_type": "stream",
     "text": [
      "Model: \"model\"\n",
      "__________________________________________________________________________________________________\n",
      " Layer (type)                Output Shape                 Param #   Connected to                  \n",
      "==================================================================================================\n",
      " input_1 (InputLayer)        [(None, 128, 128, 128, 2)]   0         []                            \n",
      "                                                                                                  \n",
      " conv3d (Conv3D)             (None, 128, 128, 128, 16)    880       ['input_1[0][0]']             \n",
      "                                                                                                  \n",
      " dropout (Dropout)           (None, 128, 128, 128, 16)    0         ['conv3d[0][0]']              \n",
      "                                                                                                  \n",
      " conv3d_1 (Conv3D)           (None, 128, 128, 128, 16)    6928      ['dropout[0][0]']             \n",
      "                                                                                                  \n",
      " max_pooling3d (MaxPooling3  (None, 64, 64, 64, 16)       0         ['conv3d_1[0][0]']            \n",
      " D)                                                                                               \n",
      "                                                                                                  \n",
      " conv3d_2 (Conv3D)           (None, 64, 64, 64, 32)       13856     ['max_pooling3d[0][0]']       \n",
      "                                                                                                  \n",
      " dropout_1 (Dropout)         (None, 64, 64, 64, 32)       0         ['conv3d_2[0][0]']            \n",
      "                                                                                                  \n",
      " conv3d_3 (Conv3D)           (None, 64, 64, 64, 32)       27680     ['dropout_1[0][0]']           \n",
      "                                                                                                  \n",
      " max_pooling3d_1 (MaxPoolin  (None, 32, 32, 32, 32)       0         ['conv3d_3[0][0]']            \n",
      " g3D)                                                                                             \n",
      "                                                                                                  \n",
      " conv3d_4 (Conv3D)           (None, 32, 32, 32, 64)       55360     ['max_pooling3d_1[0][0]']     \n",
      "                                                                                                  \n",
      " dropout_2 (Dropout)         (None, 32, 32, 32, 64)       0         ['conv3d_4[0][0]']            \n",
      "                                                                                                  \n",
      " conv3d_5 (Conv3D)           (None, 32, 32, 32, 64)       110656    ['dropout_2[0][0]']           \n",
      "                                                                                                  \n",
      " max_pooling3d_2 (MaxPoolin  (None, 16, 16, 16, 64)       0         ['conv3d_5[0][0]']            \n",
      " g3D)                                                                                             \n",
      "                                                                                                  \n",
      " conv3d_6 (Conv3D)           (None, 16, 16, 16, 128)      221312    ['max_pooling3d_2[0][0]']     \n",
      "                                                                                                  \n",
      " dropout_3 (Dropout)         (None, 16, 16, 16, 128)      0         ['conv3d_6[0][0]']            \n",
      "                                                                                                  \n",
      " conv3d_7 (Conv3D)           (None, 16, 16, 16, 128)      442496    ['dropout_3[0][0]']           \n",
      "                                                                                                  \n",
      " max_pooling3d_3 (MaxPoolin  (None, 8, 8, 8, 128)         0         ['conv3d_7[0][0]']            \n",
      " g3D)                                                                                             \n",
      "                                                                                                  \n",
      " conv3d_8 (Conv3D)           (None, 8, 8, 8, 256)         884992    ['max_pooling3d_3[0][0]']     \n",
      "                                                                                                  \n",
      " dropout_4 (Dropout)         (None, 8, 8, 8, 256)         0         ['conv3d_8[0][0]']            \n",
      "                                                                                                  \n",
      " conv3d_9 (Conv3D)           (None, 8, 8, 8, 256)         1769728   ['dropout_4[0][0]']           \n",
      "                                                                                                  \n",
      " conv3d_transpose (Conv3DTr  (None, 16, 16, 16, 128)      262272    ['conv3d_9[0][0]']            \n",
      " anspose)                                                                                         \n",
      "                                                                                                  \n",
      " concatenate (Concatenate)   (None, 16, 16, 16, 256)      0         ['conv3d_transpose[0][0]',    \n",
      "                                                                     'conv3d_7[0][0]']            \n",
      "                                                                                                  \n",
      " conv3d_10 (Conv3D)          (None, 16, 16, 16, 128)      884864    ['concatenate[0][0]']         \n",
      "                                                                                                  \n",
      " dropout_5 (Dropout)         (None, 16, 16, 16, 128)      0         ['conv3d_10[0][0]']           \n",
      "                                                                                                  \n",
      " conv3d_11 (Conv3D)          (None, 16, 16, 16, 128)      442496    ['dropout_5[0][0]']           \n",
      "                                                                                                  \n",
      " conv3d_transpose_1 (Conv3D  (None, 32, 32, 32, 64)       65600     ['conv3d_11[0][0]']           \n",
      " Transpose)                                                                                       \n",
      "                                                                                                  \n",
      " concatenate_1 (Concatenate  (None, 32, 32, 32, 128)      0         ['conv3d_transpose_1[0][0]',  \n",
      " )                                                                   'conv3d_5[0][0]']            \n",
      "                                                                                                  \n",
      " conv3d_12 (Conv3D)          (None, 32, 32, 32, 64)       221248    ['concatenate_1[0][0]']       \n",
      "                                                                                                  \n",
      " dropout_6 (Dropout)         (None, 32, 32, 32, 64)       0         ['conv3d_12[0][0]']           \n",
      "                                                                                                  \n",
      " conv3d_13 (Conv3D)          (None, 32, 32, 32, 64)       110656    ['dropout_6[0][0]']           \n",
      "                                                                                                  \n",
      " conv3d_transpose_2 (Conv3D  (None, 64, 64, 64, 32)       16416     ['conv3d_13[0][0]']           \n",
      " Transpose)                                                                                       \n",
      "                                                                                                  \n",
      " concatenate_2 (Concatenate  (None, 64, 64, 64, 64)       0         ['conv3d_transpose_2[0][0]',  \n",
      " )                                                                   'conv3d_3[0][0]']            \n",
      "                                                                                                  \n",
      " conv3d_14 (Conv3D)          (None, 64, 64, 64, 32)       55328     ['concatenate_2[0][0]']       \n",
      "                                                                                                  \n",
      " dropout_7 (Dropout)         (None, 64, 64, 64, 32)       0         ['conv3d_14[0][0]']           \n",
      "                                                                                                  \n",
      " conv3d_15 (Conv3D)          (None, 64, 64, 64, 32)       27680     ['dropout_7[0][0]']           \n",
      "                                                                                                  \n",
      " conv3d_transpose_3 (Conv3D  (None, 128, 128, 128, 16)    4112      ['conv3d_15[0][0]']           \n",
      " Transpose)                                                                                       \n",
      "                                                                                                  \n",
      " concatenate_3 (Concatenate  (None, 128, 128, 128, 32)    0         ['conv3d_transpose_3[0][0]',  \n",
      " )                                                                   'conv3d_1[0][0]']            \n",
      "                                                                                                  \n",
      " conv3d_16 (Conv3D)          (None, 128, 128, 128, 16)    13840     ['concatenate_3[0][0]']       \n",
      "                                                                                                  \n",
      " dropout_8 (Dropout)         (None, 128, 128, 128, 16)    0         ['conv3d_16[0][0]']           \n",
      "                                                                                                  \n",
      " conv3d_17 (Conv3D)          (None, 128, 128, 128, 16)    6928      ['dropout_8[0][0]']           \n",
      "                                                                                                  \n",
      " conv3d_18 (Conv3D)          (None, 128, 128, 128, 4)     68        ['conv3d_17[0][0]']           \n",
      "                                                                                                  \n",
      "==================================================================================================\n",
      "Total params: 5645396 (21.54 MB)\n",
      "Trainable params: 5645396 (21.54 MB)\n",
      "Non-trainable params: 0 (0.00 Byte)\n",
      "__________________________________________________________________________________________________\n",
      "(None, 128, 128, 128, 2)\n",
      "(None, 128, 128, 128, 4)\n"
     ]
    }
   ],
   "source": [
    "#Test de l'affichage du modèle et de l'input/output\n",
    "model = simple_unet_model(128, 128, 128, 2, 4)#Taille de nos images 128 128 128 2 numéro de classes 4 \n",
    "print(model.input_shape)\n",
    "print(model.output_shape)\n"
   ]
  }
 ],
 "metadata": {
  "kernelspec": {
   "display_name": "env",
   "language": "python",
   "name": "python3"
  },
  "language_info": {
   "codemirror_mode": {
    "name": "ipython",
    "version": 3
   },
   "file_extension": ".py",
   "mimetype": "text/x-python",
   "name": "python",
   "nbconvert_exporter": "python",
   "pygments_lexer": "ipython3",
   "version": "3.9.6"
  },
  "orig_nbformat": 4
 },
 "nbformat": 4,
 "nbformat_minor": 2
}
